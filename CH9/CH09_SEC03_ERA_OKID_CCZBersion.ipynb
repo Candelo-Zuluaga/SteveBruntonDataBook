{
 "cells": [
  {
   "cell_type": "code",
   "execution_count": 1,
   "metadata": {},
   "outputs": [],
   "source": [
    "import numpy as np \n",
    "import matplotlib.pyplot as plt \n",
    "from control.matlab import *\n",
    "import scipy as sci "
   ]
  },
  {
   "cell_type": "code",
   "execution_count": 2,
   "metadata": {},
   "outputs": [],
   "source": [
    "# First we load the system to perform an impulse response. We are nos suposed to know the system\n",
    "testSys_mat = sci.io.loadmat('DATA/testSys_ABCD.mat')\n",
    "A = testSys_mat['A']\n",
    "B = testSys_mat['B']\n",
    "C = testSys_mat['C']\n",
    "D = testSys_mat['D']\n",
    "\n",
    "sysFull = ss(A,B,C,D,1)"
   ]
  },
  {
   "cell_type": "code",
   "execution_count": 3,
   "metadata": {},
   "outputs": [],
   "source": [
    "q = 2 #Number of inputs \n",
    "p = 2 #Number of outputs \n",
    "n = 100 #state dimension \n",
    "r = 10 #reduced model order"
   ]
  },
  {
   "cell_type": "code",
   "execution_count": 11,
   "metadata": {},
   "outputs": [],
   "source": [
    "tspan = np.arange(0,r*5+2,1)\n",
    "yFull = np.array([])\n",
    "# Now we do an impulse response for each input variable \n",
    "for qi in range(q):\n",
    "    yaux, t = impulse(sysFull,T=tspan,input=qi)\n",
    "    if qi==0:\n",
    "        yFull=yaux\n",
    "    else:\n",
    "        yFull = np.concatenate((yFull,yaux),axis=2)"
   ]
  },
  {
   "cell_type": "code",
   "execution_count": 13,
   "metadata": {},
   "outputs": [],
   "source": [
    "YY = np.transpose(yFull,axes=(1,2,0)) #size pxqxm"
   ]
  },
  {
   "cell_type": "code",
   "execution_count": null,
   "metadata": {},
   "outputs": [],
   "source": [
    "# Now we define the ERA and OKID functions \n",
    "def ERA(YY,m,n,nin,nout,r): \n",
    "    \"\"\" \n",
    "    This function computes the Eigen-System-Realization of impulse response data. \n",
    "    Inputs: \n",
    "        - Y: Impulse response measurements in pxqxm format (n_outputs,n_inputs,temporal data)\n",
    "        - r: Order of reduction\n",
    "        \n",
    "    Outputs: \n",
    "        - model: A, B, C and D\n",
    "        - HSVs: Henkel Singular Values (Sigma)\n",
    "    \"\"\"\n",
    "    # First we assign the Dr matrix with the available data \n",
    "    Dr = np.zeros((nout,nin))\n",
    "    Y = np.zeros((nout,nin,YY.shape[2]-1))\n",
    "    \n",
    "    for i in range(nout):\n",
    "        for j in range(nin):\n",
    "            Dr[i,j]=YY[i,j,0]\n",
    "            Y[i,j,:]=YY[i,j,1:]\n",
    "\n",
    "    assert len(Y[:,1,1]) == nout\n",
    "    assert len(Y[1,:,1]) == nin\n",
    "    assert len(Y[1,1,:]) >= m+n   \n",
    "    \n",
    "    H = np.zeros((nout*m,nin*n))\n",
    "    H2 = np.zeros((nout*m,nin*n))\n",
    "    \n",
    "    for i in range(m):\n",
    "        for j in range(n):\n",
    "            for Q in range(nout):\n",
    "                for P in range(nin):\n",
    "                    H[nout*i+Q,nin*j+P] = Y[Q,P,i+j]\n",
    "                    H2[nout*i+Q,nin*j+P] = Y[Q,P,i+j+1]\n",
    "    \n",
    "\n",
    "    U,S,VT = np.linalg.svd(H,full_matrices=0)\n",
    "    V = VT.T \n",
    "    Sigma = np.diag(S[:r]) \n",
    "    Ur = U[:,:r]\n",
    "    Vr = V[:,:r]\n",
    "    Ar = fractional_matrix_power(Sigma,-0.5) @ Ur.T @ H2 @ Vr @ fractional_matrix_power(Sigma,-0.5)\n",
    "    Br = fractional_matrix_power(Sigma,-0.5) @ Ur.T @ H[:,:nin]\n",
    "    Cr = H[:nout,:] @ Vr @ fractional_matrix_power(Sigma,-0.5)\n",
    "    HSVs = S\n",
    "    \n",
    "    return Ar,Br,Cr,Dr,HSVs\n"
   ]
  },
  {
   "cell_type": "code",
   "execution_count": 15,
   "metadata": {},
   "outputs": [
    {
     "data": {
      "text/plain": [
       "52"
      ]
     },
     "execution_count": 15,
     "metadata": {},
     "output_type": "execute_result"
    }
   ],
   "source": [
    "len(YY[0,0,:])"
   ]
  },
  {
   "cell_type": "code",
   "execution_count": null,
   "metadata": {},
   "outputs": [],
   "source": []
  }
 ],
 "metadata": {
  "kernelspec": {
   "display_name": ".venv",
   "language": "python",
   "name": "python3"
  },
  "language_info": {
   "codemirror_mode": {
    "name": "ipython",
    "version": 3
   },
   "file_extension": ".py",
   "mimetype": "text/x-python",
   "name": "python",
   "nbconvert_exporter": "python",
   "pygments_lexer": "ipython3",
   "version": "3.12.9"
  }
 },
 "nbformat": 4,
 "nbformat_minor": 2
}
